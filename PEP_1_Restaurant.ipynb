{
 "cells": [
  {
   "cell_type": "code",
   "execution_count": 2,
   "metadata": {},
   "outputs": [],
   "source": [
    "import yaml\n",
    "import numpy as np\n",
    "import pandas as pd\n",
    "\n"
   ]
  },
  {
   "cell_type": "code",
   "execution_count": 3,
   "metadata": {},
   "outputs": [],
   "source": [
    "\n",
    "with open('customer_demographics.yaml', 'r') as yaml_file:\n",
    "    yaml_data = yaml.safe_load(yaml_file)\n",
    "\n",
    "# Create a list of dictionaries with the desired column names\n",
    "data_list = []\n",
    "for customer_id, details in yaml_data.items():\n",
    "    data_list.append({\n",
    "        'address': details.get('address'),\n",
    "        'city': details.get('city'),\n",
    "        'credit_card_expires': details.get('credit_card_expires'),\n",
    "        'credit_card_number': details.get('credit_card_number'),\n",
    "        'credit_card_provider': details.get('credit_card_provider'),\n",
    "        'credit_card_security_code': details.get('credit_card_security_code'),\n",
    "        'customer_id': details.get('customer_id'),\n",
    "        'email': details.get('email'),\n",
    "        'name': details.get('name'),\n",
    "        'phone_number': details.get('phone_number'),\n",
    "        'state': details.get('state'),\n",
    "        'zip_code': details.get('zip_code'),\n",
    "    })\n"
   ]
  },
  {
   "cell_type": "code",
   "execution_count": 112,
   "metadata": {},
   "outputs": [
    {
     "name": "stdout",
     "output_type": "stream",
     "text": [
      "0\n"
     ]
    }
   ],
   "source": [
    "#Creating a dataframe from the customer demographics dictionary\n",
    "\n",
    "cust_demo_df = pd.DataFrame(data_list)\n",
    "\n",
    "# cust_demo_df\n",
    "count=0\n",
    "\n",
    "cust_duplicate = cust_demo_df.duplicated(subset=['customer_id'])\n",
    "\n",
    "for x in cust_duplicate:\n",
    "    if x == True:\n",
    "        count +=1\n",
    "\n",
    "print(count)\n"
   ]
  },
  {
   "cell_type": "code",
   "execution_count": 94,
   "metadata": {},
   "outputs": [
    {
     "name": "stdout",
     "output_type": "stream",
     "text": [
      "                                order_id  customer_id  items      aperitifs  \\\n",
      "0   f1d6b4c4-0f9f-4ba6-8d5d-f7e4ef7cd9a0         2652      7  Aperol Spritz   \n",
      "1   7b8a732e-85a0-4fa2-b282-a2d232ee182e         1756      3         Sherry   \n",
      "2   1eab436d-2acb-4bc8-b849-fbce859ffd8a         2989      5        Bellini   \n",
      "3   d6313392-8901-42f6-bf8a-4805fe816a46         9903      3         Sherry   \n",
      "5   ff5d6856-7369-459c-a090-997c72578eeb         2323     10     Kir Royale   \n",
      "6   92ff5f6a-f745-408b-9efc-2d0d4b678de8         1837      6         Sherry   \n",
      "8   3fd6ad7c-241c-43a8-864d-bb6604ccaaf7         9977      9         Sherry   \n",
      "11  45f22cbd-8d5e-4812-9983-408490e4ad92         4593      2           Port   \n",
      "13  b9a20203-edda-4241-819f-417cfb7a98a3         8427     10            Kir   \n",
      "16  ce0099c4-bd9d-4e02-ba91-194062149332           23      7           Port   \n",
      "25  d9448c89-1469-4436-92ba-f077e5f2a914         6973      6        Bellini   \n",
      "\n",
      "       appetizers     entrees        desserts   total  \n",
      "0            Pate        Pork        Tiramisu  751.87  \n",
      "1            Pate       Pasta      Cheesecake  156.43  \n",
      "2            Pate     Lobster  Chocolate Cake  364.13  \n",
      "3           Salad       Pizza      Cheesecake  805.62  \n",
      "5   Smoked Salmon        Lamb         Cookies  936.35  \n",
      "6    Cheese Plate  Vegetarian      Cheesecake  827.50  \n",
      "8           Salad       Steak          Sorbet  423.60  \n",
      "11           Pate        Fish      Cheesecake  792.42  \n",
      "13       Crudites      Burger       Chocolate  272.24  \n",
      "16           Soup        Duck        Tiramisu  410.09  \n",
      "25        Oysters     Chicken          Sorbet  667.16  \n",
      "\n"
     ]
    }
   ],
   "source": [
    "#Reading the .csv files for data analysis\n",
    "\n",
    "orders = pd.read_csv(\"orders.csv\")\n",
    "cust_stat = pd.read_csv(\"customer_statistics.csv\")\n",
    "\n",
    "\n"
   ]
  },
  {
   "cell_type": "code",
   "execution_count": 95,
   "metadata": {},
   "outputs": [
    {
     "name": "stdout",
     "output_type": "stream",
     "text": [
      "                                order_id  customer_id  items      aperitifs  \\\n",
      "0   f1d6b4c4-0f9f-4ba6-8d5d-f7e4ef7cd9a0         2652      7  Aperol Spritz   \n",
      "1   7b8a732e-85a0-4fa2-b282-a2d232ee182e         1756      3         Sherry   \n",
      "2   1eab436d-2acb-4bc8-b849-fbce859ffd8a         2989      5        Bellini   \n",
      "3   d6313392-8901-42f6-bf8a-4805fe816a46         9903      3         Sherry   \n",
      "5   ff5d6856-7369-459c-a090-997c72578eeb         2323     10     Kir Royale   \n",
      "6   92ff5f6a-f745-408b-9efc-2d0d4b678de8         1837      6         Sherry   \n",
      "8   3fd6ad7c-241c-43a8-864d-bb6604ccaaf7         9977      9         Sherry   \n",
      "11  45f22cbd-8d5e-4812-9983-408490e4ad92         4593      2           Port   \n",
      "13  b9a20203-edda-4241-819f-417cfb7a98a3         8427     10            Kir   \n",
      "16  ce0099c4-bd9d-4e02-ba91-194062149332           23      7           Port   \n",
      "25  d9448c89-1469-4436-92ba-f077e5f2a914         6973      6        Bellini   \n",
      "\n",
      "       appetizers     entrees        desserts   total  \n",
      "0            Pate        Pork        Tiramisu  751.87  \n",
      "1            Pate       Pasta      Cheesecake  156.43  \n",
      "2            Pate     Lobster  Chocolate Cake  364.13  \n",
      "3           Salad       Pizza      Cheesecake  805.62  \n",
      "5   Smoked Salmon        Lamb         Cookies  936.35  \n",
      "6    Cheese Plate  Vegetarian      Cheesecake  827.50  \n",
      "8           Salad       Steak          Sorbet  423.60  \n",
      "11           Pate        Fish      Cheesecake  792.42  \n",
      "13       Crudites      Burger       Chocolate  272.24  \n",
      "16           Soup        Duck        Tiramisu  410.09  \n",
      "25        Oysters     Chicken          Sorbet  667.16  \n",
      "\n"
     ]
    }
   ],
   "source": [
    "#Creating dataframs from the csv files\n",
    "\n",
    "orders_df = pd.DataFrame(orders)\n",
    "cust_stat_df = pd.DataFrame(cust_stat)\n",
    "\n",
    "duplicate_in_orders = orders_df.duplicated(subset=['entrees'])\n",
    "\n",
    "if duplicate_in_orders.any():\n",
    "    print(orders_df.loc[~duplicate_in_orders], end='\\n\\n')\n"
   ]
  },
  {
   "cell_type": "code",
   "execution_count": 42,
   "metadata": {},
   "outputs": [
    {
     "data": {
      "text/plain": [
       "customer_id     0\n",
       "total_orders    0\n",
       "total_items     0\n",
       "total_spent     0\n",
       "dtype: int64"
      ]
     },
     "execution_count": 42,
     "metadata": {},
     "output_type": "execute_result"
    }
   ],
   "source": [
    "#Checking for NULL values in the customer stats dataframe\n",
    "#RESULT: No NULLS were found\n",
    "\n",
    "pd.isnull(cust_stat_df).sum()\n"
   ]
  },
  {
   "cell_type": "code",
   "execution_count": null,
   "metadata": {},
   "outputs": [],
   "source": [
    "#Checking for NULL values in the orders dataframe\n",
    "#RESULT: NONE were found.\n",
    "\n",
    "pd.isnull(orders_df).sum()\n"
   ]
  },
  {
   "cell_type": "code",
   "execution_count": null,
   "metadata": {},
   "outputs": [],
   "source": [
    "#Checking for NULL values in the customer demographics dataframe\n",
    "#RESULT: Found multiple NULLS for address, credit card, email, and phone\n",
    "\n",
    "null_count_demo = pd.isnull(cust_demo_df).sum()\n",
    "null_count_demo"
   ]
  },
  {
   "cell_type": "code",
   "execution_count": 109,
   "metadata": {},
   "outputs": [
    {
     "data": {
      "text/html": [
       "<div>\n",
       "<style scoped>\n",
       "    .dataframe tbody tr th:only-of-type {\n",
       "        vertical-align: middle;\n",
       "    }\n",
       "\n",
       "    .dataframe tbody tr th {\n",
       "        vertical-align: top;\n",
       "    }\n",
       "\n",
       "    .dataframe thead th {\n",
       "        text-align: right;\n",
       "    }\n",
       "</style>\n",
       "<table border=\"1\" class=\"dataframe\">\n",
       "  <thead>\n",
       "    <tr style=\"text-align: right;\">\n",
       "      <th></th>\n",
       "      <th>address</th>\n",
       "      <th>city</th>\n",
       "      <th>credit_card_expires</th>\n",
       "      <th>credit_card_number</th>\n",
       "      <th>credit_card_provider</th>\n",
       "      <th>credit_card_security_code</th>\n",
       "      <th>customer_id</th>\n",
       "      <th>email</th>\n",
       "      <th>name</th>\n",
       "      <th>phone_number</th>\n",
       "      <th>state</th>\n",
       "      <th>zip_code</th>\n",
       "    </tr>\n",
       "  </thead>\n",
       "  <tbody>\n",
       "    <tr>\n",
       "      <th>0</th>\n",
       "      <td>621 Chavez Ramp Suite 938</td>\n",
       "      <td>West Deniseport</td>\n",
       "      <td>06/31</td>\n",
       "      <td>2269172571677458</td>\n",
       "      <td>Diners Club / Carte Blanche</td>\n",
       "      <td>338</td>\n",
       "      <td>a8c966a0-b670-4044-826c-0e6bfe708259</td>\n",
       "      <td>brett00@example.com</td>\n",
       "      <td>Ronald Rodgers</td>\n",
       "      <td>None</td>\n",
       "      <td>New York</td>\n",
       "      <td>59237</td>\n",
       "    </tr>\n",
       "    <tr>\n",
       "      <th>1</th>\n",
       "      <td>592 Mccoy River</td>\n",
       "      <td>Port Dannymouth</td>\n",
       "      <td>11/24</td>\n",
       "      <td>676320507830</td>\n",
       "      <td>JCB 16 digit</td>\n",
       "      <td>246</td>\n",
       "      <td>56b850e0-9320-4aa0-8cd4-d1199903c90e</td>\n",
       "      <td>smithjennifer@example.net</td>\n",
       "      <td>Mary Mitchell</td>\n",
       "      <td>None</td>\n",
       "      <td>Montana</td>\n",
       "      <td>17401</td>\n",
       "    </tr>\n",
       "    <tr>\n",
       "      <th>6</th>\n",
       "      <td>349 Martinez Turnpike</td>\n",
       "      <td>Port Mikaylashire</td>\n",
       "      <td>11/24</td>\n",
       "      <td>2364648842479646</td>\n",
       "      <td>Discover</td>\n",
       "      <td>155</td>\n",
       "      <td>6c84a42c-895d-4c26-8db7-99e0e01ddb6f</td>\n",
       "      <td>quinnrachael@example.net</td>\n",
       "      <td>Paul Reed</td>\n",
       "      <td>None</td>\n",
       "      <td>New Hampshire</td>\n",
       "      <td>63162</td>\n",
       "    </tr>\n",
       "    <tr>\n",
       "      <th>14</th>\n",
       "      <td>75490 Lisa Hollow Apt. 471</td>\n",
       "      <td>North Traciton</td>\n",
       "      <td>04/33</td>\n",
       "      <td>3575461165129191</td>\n",
       "      <td>Mastercard</td>\n",
       "      <td>808</td>\n",
       "      <td>74fb06eb-bff1-48c5-be74-414cb148522a</td>\n",
       "      <td>garciadonald@example.net</td>\n",
       "      <td>Cassandra Long</td>\n",
       "      <td>None</td>\n",
       "      <td>Tennessee</td>\n",
       "      <td>56838</td>\n",
       "    </tr>\n",
       "    <tr>\n",
       "      <th>16</th>\n",
       "      <td>071 Michael Keys Apt. 335</td>\n",
       "      <td>North Katelyn</td>\n",
       "      <td>03/24</td>\n",
       "      <td>3548928942320537</td>\n",
       "      <td>Mastercard</td>\n",
       "      <td>998</td>\n",
       "      <td>0a05bb69-0f3e-4b3a-9260-f63523113dae</td>\n",
       "      <td>christine22@example.net</td>\n",
       "      <td>Roger Randall</td>\n",
       "      <td>None</td>\n",
       "      <td>Arizona</td>\n",
       "      <td>01048</td>\n",
       "    </tr>\n",
       "    <tr>\n",
       "      <th>...</th>\n",
       "      <td>...</td>\n",
       "      <td>...</td>\n",
       "      <td>...</td>\n",
       "      <td>...</td>\n",
       "      <td>...</td>\n",
       "      <td>...</td>\n",
       "      <td>...</td>\n",
       "      <td>...</td>\n",
       "      <td>...</td>\n",
       "      <td>...</td>\n",
       "      <td>...</td>\n",
       "      <td>...</td>\n",
       "    </tr>\n",
       "    <tr>\n",
       "      <th>9990</th>\n",
       "      <td>909 David Mission Suite 354</td>\n",
       "      <td>South Christopher</td>\n",
       "      <td>06/25</td>\n",
       "      <td>213105167494301</td>\n",
       "      <td>VISA 16 digit</td>\n",
       "      <td>252</td>\n",
       "      <td>09ac1785-ef58-4def-8743-d59cb3cb13e2</td>\n",
       "      <td>None</td>\n",
       "      <td>Valerie Herman</td>\n",
       "      <td>+1-347-571-5809</td>\n",
       "      <td>Kansas</td>\n",
       "      <td>10865</td>\n",
       "    </tr>\n",
       "    <tr>\n",
       "      <th>9991</th>\n",
       "      <td>3723 Carr Lake Apt. 022</td>\n",
       "      <td>Kaylaview</td>\n",
       "      <td>10/31</td>\n",
       "      <td>6011178270385113</td>\n",
       "      <td>Maestro</td>\n",
       "      <td>435</td>\n",
       "      <td>bf27a877-db10-4dd4-b467-e005ec738468</td>\n",
       "      <td>None</td>\n",
       "      <td>Zachary Murray</td>\n",
       "      <td>847-844-0425</td>\n",
       "      <td>Kentucky</td>\n",
       "      <td>44173</td>\n",
       "    </tr>\n",
       "    <tr>\n",
       "      <th>9993</th>\n",
       "      <td>45292 Amy Stream</td>\n",
       "      <td>Martinezland</td>\n",
       "      <td>11/30</td>\n",
       "      <td>4011981090951526</td>\n",
       "      <td>JCB 16 digit</td>\n",
       "      <td>849</td>\n",
       "      <td>12f10986-8ece-46d5-b853-1fcb7cbc270d</td>\n",
       "      <td>None</td>\n",
       "      <td>Gabrielle Carter</td>\n",
       "      <td>001-816-334-9707</td>\n",
       "      <td>Vermont</td>\n",
       "      <td>65616</td>\n",
       "    </tr>\n",
       "    <tr>\n",
       "      <th>9998</th>\n",
       "      <td>35316 Becky Terrace</td>\n",
       "      <td>Port Donald</td>\n",
       "      <td>04/24</td>\n",
       "      <td>6595168672629675</td>\n",
       "      <td>JCB 16 digit</td>\n",
       "      <td>113</td>\n",
       "      <td>7caf0251-8040-4c1e-8190-46133fde16ab</td>\n",
       "      <td>andreawilliams@example.org</td>\n",
       "      <td>Karen Green</td>\n",
       "      <td>None</td>\n",
       "      <td>Nevada</td>\n",
       "      <td>97426</td>\n",
       "    </tr>\n",
       "    <tr>\n",
       "      <th>9999</th>\n",
       "      <td>6101 Thompson Ridges Apt. 896</td>\n",
       "      <td>Marissamouth</td>\n",
       "      <td>05/25</td>\n",
       "      <td>4999092953838318200</td>\n",
       "      <td>Diners Club / Carte Blanche</td>\n",
       "      <td>810</td>\n",
       "      <td>3b343ad7-9d47-43c6-98d7-8a1c0bfebf12</td>\n",
       "      <td>anthonykemp@example.net</td>\n",
       "      <td>Marissa Garrett</td>\n",
       "      <td>None</td>\n",
       "      <td>Nevada</td>\n",
       "      <td>22202</td>\n",
       "    </tr>\n",
       "  </tbody>\n",
       "</table>\n",
       "<p>3513 rows × 12 columns</p>\n",
       "</div>"
      ],
      "text/plain": [
       "                            address               city credit_card_expires  \\\n",
       "0         621 Chavez Ramp Suite 938    West Deniseport               06/31   \n",
       "1                   592 Mccoy River    Port Dannymouth               11/24   \n",
       "6             349 Martinez Turnpike  Port Mikaylashire               11/24   \n",
       "14       75490 Lisa Hollow Apt. 471     North Traciton               04/33   \n",
       "16        071 Michael Keys Apt. 335      North Katelyn               03/24   \n",
       "...                             ...                ...                 ...   \n",
       "9990    909 David Mission Suite 354  South Christopher               06/25   \n",
       "9991        3723 Carr Lake Apt. 022          Kaylaview               10/31   \n",
       "9993               45292 Amy Stream       Martinezland               11/30   \n",
       "9998            35316 Becky Terrace        Port Donald               04/24   \n",
       "9999  6101 Thompson Ridges Apt. 896       Marissamouth               05/25   \n",
       "\n",
       "       credit_card_number         credit_card_provider  \\\n",
       "0        2269172571677458  Diners Club / Carte Blanche   \n",
       "1            676320507830                 JCB 16 digit   \n",
       "6        2364648842479646                     Discover   \n",
       "14       3575461165129191                   Mastercard   \n",
       "16       3548928942320537                   Mastercard   \n",
       "...                   ...                          ...   \n",
       "9990      213105167494301                VISA 16 digit   \n",
       "9991     6011178270385113                      Maestro   \n",
       "9993     4011981090951526                 JCB 16 digit   \n",
       "9998     6595168672629675                 JCB 16 digit   \n",
       "9999  4999092953838318200  Diners Club / Carte Blanche   \n",
       "\n",
       "     credit_card_security_code                           customer_id  \\\n",
       "0                          338  a8c966a0-b670-4044-826c-0e6bfe708259   \n",
       "1                          246  56b850e0-9320-4aa0-8cd4-d1199903c90e   \n",
       "6                          155  6c84a42c-895d-4c26-8db7-99e0e01ddb6f   \n",
       "14                         808  74fb06eb-bff1-48c5-be74-414cb148522a   \n",
       "16                         998  0a05bb69-0f3e-4b3a-9260-f63523113dae   \n",
       "...                        ...                                   ...   \n",
       "9990                       252  09ac1785-ef58-4def-8743-d59cb3cb13e2   \n",
       "9991                       435  bf27a877-db10-4dd4-b467-e005ec738468   \n",
       "9993                       849  12f10986-8ece-46d5-b853-1fcb7cbc270d   \n",
       "9998                       113  7caf0251-8040-4c1e-8190-46133fde16ab   \n",
       "9999                       810  3b343ad7-9d47-43c6-98d7-8a1c0bfebf12   \n",
       "\n",
       "                           email              name      phone_number  \\\n",
       "0            brett00@example.com    Ronald Rodgers              None   \n",
       "1      smithjennifer@example.net     Mary Mitchell              None   \n",
       "6       quinnrachael@example.net         Paul Reed              None   \n",
       "14      garciadonald@example.net    Cassandra Long              None   \n",
       "16       christine22@example.net     Roger Randall              None   \n",
       "...                          ...               ...               ...   \n",
       "9990                        None    Valerie Herman   +1-347-571-5809   \n",
       "9991                        None    Zachary Murray      847-844-0425   \n",
       "9993                        None  Gabrielle Carter  001-816-334-9707   \n",
       "9998  andreawilliams@example.org       Karen Green              None   \n",
       "9999     anthonykemp@example.net   Marissa Garrett              None   \n",
       "\n",
       "              state zip_code  \n",
       "0          New York    59237  \n",
       "1           Montana    17401  \n",
       "6     New Hampshire    63162  \n",
       "14        Tennessee    56838  \n",
       "16          Arizona    01048  \n",
       "...             ...      ...  \n",
       "9990         Kansas    10865  \n",
       "9991       Kentucky    44173  \n",
       "9993        Vermont    65616  \n",
       "9998         Nevada    97426  \n",
       "9999         Nevada    22202  \n",
       "\n",
       "[3513 rows x 12 columns]"
      ]
     },
     "execution_count": 109,
     "metadata": {},
     "output_type": "execute_result"
    }
   ],
   "source": [
    "#Displaying all records that contain NULL values\n",
    "#RESULT: There are a total of 3513 records with NULL values\n",
    "\n",
    "cust_demo_df[cust_demo_df.isnull().any(axis=1)]"
   ]
  },
  {
   "cell_type": "code",
   "execution_count": null,
   "metadata": {},
   "outputs": [],
   "source": [
    "#Displaying all records with NULL CREDIT CARD NUMBERS\n",
    "\n",
    "# cc_number_nulls = cust_demo_df.loc[cust_demo_df['credit_card_number'].isin([None])]\n",
    "# cc_number_nulls\n",
    "\n",
    "pd.Series(cust_demo_df.customer_id.isin(orders_df.order_id).values.astype(int), cust_demo_df.customer_id.values)"
   ]
  },
  {
   "cell_type": "code",
   "execution_count": null,
   "metadata": {},
   "outputs": [],
   "source": [
    "#displaying all records with NULL values for the ADDRESS columns\n",
    "\n",
    "address_nulls = cust_demo_df.loc[cust_demo_df['address'].isin([None])]\n",
    "address_nulls\n"
   ]
  },
  {
   "cell_type": "code",
   "execution_count": null,
   "metadata": {},
   "outputs": [],
   "source": [
    "#Display records with NULL values in the EMAIL column\n",
    "\n",
    "email_nulls = cust_demo_df.loc[cust_demo_df['email'].isin([None])]\n",
    "email_nulls"
   ]
  },
  {
   "cell_type": "code",
   "execution_count": null,
   "metadata": {},
   "outputs": [],
   "source": [
    "#Display records with NULL values in the phone number column\n",
    "\n",
    "phone_nulls = cust_demo_df.loc[cust_demo_df['phone_number'].isin([None])]\n",
    "phone_nulls"
   ]
  },
  {
   "cell_type": "code",
   "execution_count": null,
   "metadata": {},
   "outputs": [],
   "source": [
    "#checking for any outlier in the items column. Item count of ZERO should be considered in error. \n",
    "#RESULT: No items found less than ONE.\n",
    "\n",
    "rslt_df = orders.sort_values(by = 'items')\n",
    "rslt_df.head()\n"
   ]
  },
  {
   "cell_type": "code",
   "execution_count": null,
   "metadata": {},
   "outputs": [],
   "source": [
    "#checking for ouliers of amounts considered too great for item count.\n",
    "#RESULT: No items found greater than TEN.\n",
    "\n",
    "rslt_df.iloc[-5:]"
   ]
  },
  {
   "cell_type": "code",
   "execution_count": null,
   "metadata": {},
   "outputs": [],
   "source": [
    "#checking for total values that don't fit the expectation of the data\n",
    "#RESULT: No totals found less than $100, which is in tolerance\n",
    "\n",
    "rslt_df = orders.sort_values(by = 'total') \n",
    "rslt_df.head()"
   ]
  },
  {
   "cell_type": "code",
   "execution_count": null,
   "metadata": {},
   "outputs": [],
   "source": [
    "#checking for totals that would exceed expected amount\n",
    "#RESULT: No totals found greater than $1000, which is in tolerance\n",
    "\n",
    "rslt_df.iloc[-5:]"
   ]
  },
  {
   "cell_type": "code",
   "execution_count": 53,
   "metadata": {},
   "outputs": [
    {
     "name": "stdout",
     "output_type": "stream",
     "text": [
      "There are 8987 emails that are valid\n",
      "There are 1013 emails with NULL values\n",
      "There are 0 *NON NULL* emails that aren't valid\n"
     ]
    }
   ],
   "source": [
    "#cheking the number of invalid email entries against NULL values\n",
    "#RESULT: All emails that are entered are in proper format\n",
    "\n",
    "cust_email = cust_demo_df[\"email\"].str.match(r\"^.+@.+\\..{2,}$\")\n",
    "count1=0\n",
    "count=0\n",
    "for i in cust_email:\n",
    "    if i == True:\n",
    "        count +=1\n",
    "    else:\n",
    "        count1 +=1  \n",
    "\n",
    "       \n",
    "email_null_count = pd.isnull(cust_demo_df['email']).sum()\n",
    "print(f'There are {count} emails that are valid')\n",
    "print(f\"There are {email_null_count} emails with NULL values\")\n",
    "print(f\"There are {count1 - email_null_count} *NON NULL* emails that aren't valid\")"
   ]
  },
  {
   "cell_type": "code",
   "execution_count": null,
   "metadata": {},
   "outputs": [],
   "source": [
    "multi_null = cust_demo_df[cust_demo_df['address'].isnull() & cust_demo_df['credit_card_number'].isnull() & cust_demo_df['phone_number'].isnull()]\n",
    "multi_null\n",
    "\n",
    "multi_null_df = pd.DataFrame(multi_null)\n",
    "multi_null_df"
   ]
  },
  {
   "cell_type": "code",
   "execution_count": null,
   "metadata": {},
   "outputs": [],
   "source": [
    "multi_null_df = multi_null_df.rename(columns={\"customer_id\" : \"order_id?\"})\n",
    "\n",
    "multi_null_df = multi_null_df.rename_axis('customer_id')\n",
    "\n",
    "multi_null_df\n",
    "            "
   ]
  },
  {
   "cell_type": "code",
   "execution_count": 57,
   "metadata": {},
   "outputs": [
    {
     "name": "stdout",
     "output_type": "stream",
     "text": [
      "Index([6646, 6697], dtype='int64', name='customer_id')\n"
     ]
    }
   ],
   "source": [
    "print(multi_null_df.index)"
   ]
  },
  {
   "cell_type": "code",
   "execution_count": 59,
   "metadata": {},
   "outputs": [
    {
     "data": {
      "text/plain": [
       "array([ True,  True])"
      ]
     },
     "execution_count": 59,
     "metadata": {},
     "output_type": "execute_result"
    }
   ],
   "source": [
    "multi_rslt = multi_null_df.index.isin(orders.customer_id)\n",
    "\n",
    "multi_rslt\n"
   ]
  },
  {
   "cell_type": "code",
   "execution_count": 73,
   "metadata": {},
   "outputs": [
    {
     "data": {
      "text/plain": [
       "False"
      ]
     },
     "execution_count": 73,
     "metadata": {},
     "output_type": "execute_result"
    }
   ],
   "source": [
    "duplicate_orders = orders_df.duplicated().any()\n",
    "\n",
    "duplicate_orders\n"
   ]
  },
  {
   "cell_type": "code",
   "execution_count": 116,
   "metadata": {},
   "outputs": [
    {
     "data": {
      "text/plain": [
       "False"
      ]
     },
     "execution_count": 116,
     "metadata": {},
     "output_type": "execute_result"
    }
   ],
   "source": [
    "duplicate = orders_df['order_id'].duplicated().any()\n",
    "\n",
    "duplicate"
   ]
  },
  {
   "cell_type": "code",
   "execution_count": null,
   "metadata": {},
   "outputs": [],
   "source": [
    "\n",
    "    credit_card_id datatype,\n",
    "    column2 datatype,\n",
    "    column3 datatype,\n",
    "   ....\n",
    ");"
   ]
  }
 ],
 "metadata": {
  "kernelspec": {
   "display_name": "Python 3",
   "language": "python",
   "name": "python3"
  },
  "language_info": {
   "codemirror_mode": {
    "name": "ipython",
    "version": 3
   },
   "file_extension": ".py",
   "mimetype": "text/x-python",
   "name": "python",
   "nbconvert_exporter": "python",
   "pygments_lexer": "ipython3",
   "version": "3.12.1"
  }
 },
 "nbformat": 4,
 "nbformat_minor": 2
}
